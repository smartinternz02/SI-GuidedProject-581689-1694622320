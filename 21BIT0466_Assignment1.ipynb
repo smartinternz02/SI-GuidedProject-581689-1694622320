{
  "nbformat": 4,
  "nbformat_minor": 0,
  "metadata": {
    "colab": {
      "provenance": []
    },
    "kernelspec": {
      "name": "python3",
      "display_name": "Python 3"
    },
    "language_info": {
      "name": "python"
    }
  },
  "cells": [
    {
      "cell_type": "code",
      "execution_count": 1,
      "metadata": {
        "colab": {
          "base_uri": "https://localhost:8080/"
        },
        "id": "IDu0uym5JNPy",
        "outputId": "96584c3a-d321-45e0-b273-8df76560cfae"
      },
      "outputs": [
        {
          "output_type": "stream",
          "name": "stdout",
          "text": [
            "   Feature1  Feature2  Feature3  Feature4\n",
            "0  0.374540  0.950714  0.731994  0.598658\n",
            "1  0.156019  0.155995  0.058084  0.866176\n",
            "2  0.601115  0.708073  0.020584  0.969910\n",
            "3  0.832443  0.212339  0.181825  0.183405\n"
          ]
        }
      ],
      "source": [
        "import pandas as pd\n",
        "import numpy as np\n",
        "\n",
        "# Set the seed for reproducibility\n",
        "np.random.seed(42)\n",
        "\n",
        "# Create random values using numpy\n",
        "data = np.random.rand(4, 4)\n",
        "\n",
        "# Create a DataFrame\n",
        "df = pd.DataFrame(data, columns=['Feature1', 'Feature2', 'Feature3', 'Feature4'])\n",
        "\n",
        "print(df)\n"
      ]
    },
    {
      "cell_type": "code",
      "source": [
        "import pandas as pd\n",
        "import numpy as np\n",
        "\n",
        "# Set the seed for reproducibility\n",
        "np.random.seed(42)\n",
        "\n",
        "# Create random values using numpy\n",
        "data = np.random.rand(4, 4)\n",
        "\n",
        "# Create a DataFrame with renamed columns\n",
        "df = pd.DataFrame(data, columns=['Random value 1', 'Random value 2', 'Random value 3', 'Random value 4'])\n",
        "\n",
        "print(df)"
      ],
      "metadata": {
        "colab": {
          "base_uri": "https://localhost:8080/"
        },
        "id": "x6qhoHtIMwj_",
        "outputId": "c78bf78b-93ac-4345-9ff8-b7a14152d25d"
      },
      "execution_count": 2,
      "outputs": [
        {
          "output_type": "stream",
          "name": "stdout",
          "text": [
            "   Random value 1  Random value 2  Random value 3  Random value 4\n",
            "0        0.374540        0.950714        0.731994        0.598658\n",
            "1        0.156019        0.155995        0.058084        0.866176\n",
            "2        0.601115        0.708073        0.020584        0.969910\n",
            "3        0.832443        0.212339        0.181825        0.183405\n"
          ]
        }
      ]
    },
    {
      "cell_type": "code",
      "source": [
        "stats = df.describe()\n",
        "print(stats)"
      ],
      "metadata": {
        "colab": {
          "base_uri": "https://localhost:8080/"
        },
        "id": "5pfOIriKNZKl",
        "outputId": "c5910bf1-f897-4f68-dc7d-f0347505f4bb"
      },
      "execution_count": 4,
      "outputs": [
        {
          "output_type": "stream",
          "name": "stdout",
          "text": [
            "       Random value 1  Random value 2  Random value 3  Random value 4\n",
            "count        4.000000        4.000000        4.000000        4.000000\n",
            "mean         0.491029        0.506780        0.248122        0.654537\n",
            "std          0.291252        0.386153        0.329856        0.350875\n",
            "min          0.156019        0.155995        0.020584        0.183405\n",
            "25%          0.319910        0.198253        0.048709        0.494845\n",
            "50%          0.487828        0.460206        0.119954        0.732417\n",
            "75%          0.658947        0.768733        0.319367        0.892110\n",
            "max          0.832443        0.950714        0.731994        0.969910\n"
          ]
        }
      ]
    },
    {
      "cell_type": "code",
      "source": [
        "# Check for null values\n",
        "null_values = df.isnull().sum()\n",
        "\n",
        "# Get data types of columns\n",
        "column_data_types = df.dtypes\n",
        "\n",
        "print(\"Null Values:\")\n",
        "print(null_values)\n",
        "print(\"\\nData Types:\")\n",
        "print(column_data_types)"
      ],
      "metadata": {
        "colab": {
          "base_uri": "https://localhost:8080/"
        },
        "id": "6JwFxh69N0gX",
        "outputId": "758d8775-5ecc-4a24-f4cd-cd7e7aed7cfa"
      },
      "execution_count": 5,
      "outputs": [
        {
          "output_type": "stream",
          "name": "stdout",
          "text": [
            "Null Values:\n",
            "Random value 1    0\n",
            "Random value 2    0\n",
            "Random value 3    0\n",
            "Random value 4    0\n",
            "dtype: int64\n",
            "\n",
            "Data Types:\n",
            "Random value 1    float64\n",
            "Random value 2    float64\n",
            "Random value 3    float64\n",
            "Random value 4    float64\n",
            "dtype: object\n"
          ]
        }
      ]
    },
    {
      "cell_type": "code",
      "source": [
        "# Access columns using .loc[]\n",
        "random_value_2_loc = df.loc[:, 'Random value 2']\n",
        "random_value_3_loc = df.loc[:, 'Random value 3']\n",
        "\n",
        "# Access columns using .iloc[]\n",
        "random_value_2_iloc = df.iloc[:, 1]  # Index 1 corresponds to 'Random value 2'\n",
        "random_value_3_iloc = df.iloc[:, 2]  # Index 2 corresponds to 'Random value 3'\n",
        "\n",
        "print(\"Using .loc[]:\")\n",
        "print(random_value_2_loc)\n",
        "print(random_value_3_loc)\n",
        "\n",
        "print(\"\\nUsing .iloc[]:\")\n",
        "print(random_value_2_iloc)\n",
        "print(random_value_3_iloc)"
      ],
      "metadata": {
        "colab": {
          "base_uri": "https://localhost:8080/"
        },
        "id": "SBdgF91pOPcc",
        "outputId": "ed05bec2-0d76-4a41-ee19-b06f24991d73"
      },
      "execution_count": 6,
      "outputs": [
        {
          "output_type": "stream",
          "name": "stdout",
          "text": [
            "Using .loc[]:\n",
            "0    0.950714\n",
            "1    0.155995\n",
            "2    0.708073\n",
            "3    0.212339\n",
            "Name: Random value 2, dtype: float64\n",
            "0    0.731994\n",
            "1    0.058084\n",
            "2    0.020584\n",
            "3    0.181825\n",
            "Name: Random value 3, dtype: float64\n",
            "\n",
            "Using .iloc[]:\n",
            "0    0.950714\n",
            "1    0.155995\n",
            "2    0.708073\n",
            "3    0.212339\n",
            "Name: Random value 2, dtype: float64\n",
            "0    0.731994\n",
            "1    0.058084\n",
            "2    0.020584\n",
            "3    0.181825\n",
            "Name: Random value 3, dtype: float64\n"
          ]
        }
      ]
    }
  ]
}